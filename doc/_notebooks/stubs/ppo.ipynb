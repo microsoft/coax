{
 "cells": [
  {
   "cell_type": "code",
   "execution_count": null,
   "metadata": {},
   "outputs": [],
   "source": [
    "!pip install --upgrade coax"
   ]
  },
  {
   "cell_type": "code",
   "execution_count": null,
   "metadata": {},
   "outputs": [],
   "source": [
    "import gym\n",
    "import coax\n",
    "\n",
    "\n",
    "# pick environment\n",
    "env = gym.make(...)\n",
    "env = coax.wrappers.TrainMonitor(env)\n",
    "\n",
    "\n",
    "# show logs from TrainMonitor\n",
    "coax.enable_logging()\n",
    "\n",
    "\n",
    "class MyFuncApprox(coax.FuncApprox):\n",
    "    def body(self, S, is_training):\n",
    "        # custom haiku function\n",
    "        ...\n",
    "\n",
    "\n",
    "# define function approximator\n",
    "func = MyFuncApprox(env)\n",
    "v = coax.V(func)\n",
    "pi = coax.Policy(func)\n",
    "pi_behavior = pi.copy()\n",
    "\n",
    "\n",
    "# specify how to update policy and value function\n",
    "ppo_clip = coax.policy_objectives.PPOClip(pi)\n",
    "simple_td = coax.td_learning.SimpleTD(v)\n",
    "\n",
    "\n",
    "# specify how to trace the transitions\n",
    "tracer = coax.reward_tracing.NStep(n=5, gamma=0.9)\n",
    "buffer = coax.experience_replay.SimpleReplayBuffer(capacity=256)\n",
    "\n",
    "\n",
    "for ep in range(100):\n",
    "    s = env.reset()\n",
    "\n",
    "    for t in range(env.spec.max_episode_steps):\n",
    "        a, logp = pi_behavior(s, return_logp=True)\n",
    "        s_next, r, done, info = env.step(a)\n",
    "\n",
    "        # add transition to buffer\n",
    "        tracer.add(s, a, r, done, logp)\n",
    "        while tracer:\n",
    "            buffer.add(tracer.pop())\n",
    "\n",
    "        # update\n",
    "        if len(buffer) == buffer.capacity:\n",
    "            for _ in range(4 * buffer.capacity // 32):  # ~4 passes\n",
    "                transition_batch = buffer.sample(batch_size=32)\n",
    "                td_error = simple_td.td_error(transition_batch)\n",
    "                ppo_clip.update(transition_batch, Adv=td_error)\n",
    "                simple_td.update(transition_batch)\n",
    "\n",
    "            buffer.clear()\n",
    "            pi_behavior.soft_update(pi, tau=0.1)\n",
    "\n",
    "        if done:\n",
    "            break\n",
    "\n",
    "        s = s_next\n"
   ]
  }
 ],
 "metadata": {
  "kernelspec": {
   "display_name": "Python 3",
   "language": "python",
   "name": "python3"
  },
  "language_info": {
   "codemirror_mode": {
    "name": "ipython",
    "version": 3
   },
   "file_extension": ".py",
   "mimetype": "text/x-python",
   "name": "python",
   "nbconvert_exporter": "python",
   "pygments_lexer": "ipython3",
   "version": "3.8.2"
  }
 },
 "nbformat": 4,
 "nbformat_minor": 2
}