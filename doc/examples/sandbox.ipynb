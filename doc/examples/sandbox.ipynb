{
 "cells": [
  {
   "cell_type": "code",
   "execution_count": 69,
   "metadata": {},
   "outputs": [
    {
     "name": "stdout",
     "output_type": "stream",
     "text": [
      "{'S': DeviceArray([[1.96514153e+00, 1.59395158e-01, 5.48180342e-02],\n",
      "             [4.28148079e+00, 3.04840708e+00, 9.95470285e-02],\n",
      "             [1.06140256e-01, 4.55193520e-02, 1.64726734e-01],\n",
      "             [4.38288033e-01, 1.96934760e-01, 1.28138840e-01],\n",
      "             [3.55600119e+00, 2.93213367e-01, 2.10648954e-01],\n",
      "             [1.36177027e+00, 2.01537251e-01, 3.29494476e-04],\n",
      "             [5.92988968e-01, 1.62693453e+00, 2.19761789e-01],\n",
      "             [5.15736699e-01, 2.86591005e+00, 8.83961320e-02],\n",
      "             [4.39187050e+00, 7.32105851e-01, 7.21517205e-02],\n",
      "             [2.20014215e-01, 2.48182833e-01, 1.23723984e-01],\n",
      "             [2.22931623e+00, 9.71621275e-01, 7.80324936e-02],\n",
      "             [8.81052971e-01, 8.49730015e-01, 2.32039571e-01],\n",
      "             [1.94804013e-01, 8.81343842e-01, 4.92069125e-02]],            dtype=float32), 'is_training': True}\n"
     ]
    },
    {
     "name": "stderr",
     "output_type": "stream",
     "text": [
      "/home/kris/.local/lib/python3.8/site-packages/jax/numpy/lax_numpy.py:1601: FutureWarning: jax.numpy reductions won't accept lists and tuples in future versions, only scalars and ndarrays\n",
      "  warnings.warn(msg, category=FutureWarning)\n"
     ]
    },
    {
     "data": {
      "text/plain": [
       "array([-0.572093], dtype=float32)"
      ]
     },
     "execution_count": 69,
     "metadata": {},
     "output_type": "execute_result"
    }
   ],
   "source": [
    "%reload coax\n",
    "import coax\n",
    "\n",
    "env = gym.make('Pendulum-v0')\n",
    "\n",
    "data = coax.example_data(env, batch_size=13)\n",
    "# pprint(data)\n",
    "\n",
    "print(data['policy']['input'])\n",
    "\n",
    "@coax.policy(env)\n",
    "def pi(S, is_training):\n",
    "    shared = hk.Sequential((\n",
    "        hk.Flatten(),\n",
    "        hk.Linear(8, name='shared_hidden_1'), jax.nn.relu,\n",
    "        hk.Linear(8, name='shared_hidden_2'), jax.nn.relu,\n",
    "    ))\n",
    "    mu = hk.Sequential((\n",
    "        shared,\n",
    "        hk.Linear(8, name='mu_hidden'), jax.nn.relu,\n",
    "        hk.Linear(jnp.prod(env.action_space.shape), name='mu_out'),\n",
    "        hk.Reshape(env.action_space.shape),\n",
    "    ))\n",
    "    logvar = hk.Sequential((\n",
    "        shared,\n",
    "        hk.Linear(8, name='logvar_hidden'), jax.nn.relu,\n",
    "        hk.Linear(jnp.prod(env.action_space.shape), name='logvar_out'),\n",
    "        hk.Reshape(env.action_space.shape),\n",
    "    ))\n",
    "    return {'mu': mu(S), 'logvar': logvar(S)}\n",
    "\n",
    "s = env.observation_space.sample()\n",
    "pi(s)"
   ]
  }
 ],
 "metadata": {
  "kernelspec": {
   "display_name": "Python 3",
   "language": "python",
   "name": "python3"
  },
  "language_info": {
   "codemirror_mode": {
    "name": "ipython",
    "version": 3
   },
   "file_extension": ".py",
   "mimetype": "text/x-python",
   "name": "python",
   "nbconvert_exporter": "python",
   "pygments_lexer": "ipython3",
   "version": "3.8.2"
  }
 },
 "nbformat": 4,
 "nbformat_minor": 2
}
